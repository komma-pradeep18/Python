{
 "cells": [
  {
   "cell_type": "code",
   "execution_count": 5,
   "id": "0a9d02ab-929a-4782-a1fc-ec151297e079",
   "metadata": {},
   "outputs": [
    {
     "data": {
      "text/plain": [
       "array([80, 68, 33, 45, 95, 70, 58, 46, 53, 97, 73, 58, 83, 55, 56, 38, 83,\n",
       "       80, 63, 48])"
      ]
     },
     "execution_count": 5,
     "metadata": {},
     "output_type": "execute_result"
    }
   ],
   "source": [
    "import numpy as np\n",
    "a=np.random.randint(30,99,20)\n",
    "a"
   ]
  },
  {
   "cell_type": "code",
   "execution_count": 11,
   "id": "c5247884-5dd5-4847-9faa-74feaa820434",
   "metadata": {},
   "outputs": [
    {
     "data": {
      "text/plain": [
       "48"
      ]
     },
     "execution_count": 11,
     "metadata": {},
     "output_type": "execute_result"
    }
   ],
   "source": [
    "a[-1]\n"
   ]
  },
  {
   "cell_type": "code",
   "execution_count": 15,
   "id": "4a192d81-b859-4ade-af4e-30abce55e3f2",
   "metadata": {},
   "outputs": [
    {
     "data": {
      "text/plain": [
       "73"
      ]
     },
     "execution_count": 15,
     "metadata": {},
     "output_type": "execute_result"
    }
   ],
   "source": [
    "a[10]"
   ]
  },
  {
   "cell_type": "code",
   "execution_count": 17,
   "id": "193ff96a-9bc6-4ab6-b46d-9a7b03b6e6d8",
   "metadata": {},
   "outputs": [],
   "source": [
    "import numpy as np"
   ]
  },
  {
   "cell_type": "code",
   "execution_count": 5,
   "id": "951c3c2c-dfd4-4f28-8705-eaa194c23dce",
   "metadata": {},
   "outputs": [
    {
     "data": {
      "text/plain": [
       "array([[76, 39, 74, 63, 78, 72, 34, 72, 57],\n",
       "       [70, 43, 30, 68, 50, 47, 74, 65, 30],\n",
       "       [77, 27, 48, 23, 76, 29, 21, 53, 72],\n",
       "       [50, 64, 32, 23, 39, 47, 23, 49, 24],\n",
       "       [41, 66, 35, 68, 38, 48, 20, 53, 24],\n",
       "       [38, 72, 68, 54, 75, 53, 32, 73, 34],\n",
       "       [38, 73, 35, 73, 27, 38, 24, 44, 36],\n",
       "       [33, 74, 65, 45, 39, 48, 65, 61, 32]])"
      ]
     },
     "execution_count": 5,
     "metadata": {},
     "output_type": "execute_result"
    }
   ],
   "source": [
    "import numpy as np\n",
    "b=np.random.randint(20,80,(8,9))\n",
    "b"
   ]
  },
  {
   "cell_type": "code",
   "execution_count": 7,
   "id": "fdf26d1e-7e6e-41bf-a088-d841629d3939",
   "metadata": {},
   "outputs": [
    {
     "data": {
      "text/plain": [
       "(8, 9)"
      ]
     },
     "execution_count": 7,
     "metadata": {},
     "output_type": "execute_result"
    }
   ],
   "source": [
    "b.shape"
   ]
  },
  {
   "cell_type": "code",
   "execution_count": 9,
   "id": "74177d43-e3c7-4cee-b7d2-e18c06a19e60",
   "metadata": {},
   "outputs": [
    {
     "data": {
      "text/plain": [
       "2"
      ]
     },
     "execution_count": 9,
     "metadata": {},
     "output_type": "execute_result"
    }
   ],
   "source": [
    "b.ndim"
   ]
  },
  {
   "cell_type": "code",
   "execution_count": 11,
   "id": "d36a75f3-cb17-4a9c-8976-9b018657d6ed",
   "metadata": {},
   "outputs": [
    {
     "data": {
      "text/plain": [
       "33"
      ]
     },
     "execution_count": 11,
     "metadata": {},
     "output_type": "execute_result"
    }
   ],
   "source": [
    "b[7,0]"
   ]
  },
  {
   "cell_type": "markdown",
   "id": "4bd5f944-1dcd-4d8c-ada0-ce017bed0219",
   "metadata": {},
   "source": [
    "array[row_start: row_end : row_start , col_start: col_step]"
   ]
  },
  {
   "cell_type": "code",
   "execution_count": 37,
   "id": "bfd27efd-1d5b-43c9-8869-30917026b593",
   "metadata": {},
   "outputs": [
    {
     "data": {
      "text/plain": [
       "array([[76, 39, 74, 63, 78, 72, 34, 72, 57],\n",
       "       [70, 43, 30, 68, 50, 47, 74, 65, 30],\n",
       "       [77, 27, 48, 23, 76, 29, 21, 53, 72],\n",
       "       [50, 64, 32, 23, 39, 47, 23, 49, 24],\n",
       "       [41, 66, 35, 68, 38, 48, 20, 53, 24],\n",
       "       [38, 72, 68, 54, 75, 53, 32, 73, 34],\n",
       "       [38, 73, 35, 73, 27, 38, 24, 44, 36],\n",
       "       [33, 74, 65, 45, 39, 48, 65, 61, 32]])"
      ]
     },
     "execution_count": 37,
     "metadata": {},
     "output_type": "execute_result"
    }
   ],
   "source": [
    "b[0:8]"
   ]
  },
  {
   "cell_type": "code",
   "execution_count": 39,
   "id": "3aa52dc8-975f-498d-a7a2-4405abd8bf5d",
   "metadata": {},
   "outputs": [
    {
     "data": {
      "text/plain": [
       "array([[70, 43, 30, 68, 50, 47, 74, 65, 30],\n",
       "       [77, 27, 48, 23, 76, 29, 21, 53, 72],\n",
       "       [50, 64, 32, 23, 39, 47, 23, 49, 24],\n",
       "       [41, 66, 35, 68, 38, 48, 20, 53, 24],\n",
       "       [38, 72, 68, 54, 75, 53, 32, 73, 34],\n",
       "       [38, 73, 35, 73, 27, 38, 24, 44, 36]])"
      ]
     },
     "execution_count": 39,
     "metadata": {},
     "output_type": "execute_result"
    }
   ],
   "source": [
    "b[1:7]"
   ]
  },
  {
   "cell_type": "code",
   "execution_count": 41,
   "id": "dae57f86-395d-498a-90d4-1a86fdb48551",
   "metadata": {},
   "outputs": [
    {
     "data": {
      "text/plain": [
       "array([[77, 27, 48, 23, 76, 29, 21, 53, 72],\n",
       "       [50, 64, 32, 23, 39, 47, 23, 49, 24],\n",
       "       [41, 66, 35, 68, 38, 48, 20, 53, 24],\n",
       "       [38, 72, 68, 54, 75, 53, 32, 73, 34]])"
      ]
     },
     "execution_count": 41,
     "metadata": {},
     "output_type": "execute_result"
    }
   ],
   "source": [
    "b[2:6]"
   ]
  },
  {
   "cell_type": "code",
   "execution_count": 43,
   "id": "f9e69aa3-3d5e-46b1-a0d8-4cfa887f782b",
   "metadata": {},
   "outputs": [
    {
     "data": {
      "text/plain": [
       "array([[43, 30, 68, 50, 47],\n",
       "       [27, 48, 23, 76, 29],\n",
       "       [64, 32, 23, 39, 47],\n",
       "       [66, 35, 68, 38, 48]])"
      ]
     },
     "execution_count": 43,
     "metadata": {},
     "output_type": "execute_result"
    }
   ],
   "source": [
    "b[1:5,1:6]"
   ]
  },
  {
   "cell_type": "code",
   "execution_count": 45,
   "id": "d5a10e11-7750-48d6-9b33-c78aa3bd8326",
   "metadata": {},
   "outputs": [
    {
     "data": {
      "text/plain": [
       "array([[50, 64, 32, 23, 39, 47, 23, 49, 24],\n",
       "       [41, 66, 35, 68, 38, 48, 20, 53, 24],\n",
       "       [38, 72, 68, 54, 75, 53, 32, 73, 34],\n",
       "       [38, 73, 35, 73, 27, 38, 24, 44, 36],\n",
       "       [33, 74, 65, 45, 39, 48, 65, 61, 32]])"
      ]
     },
     "execution_count": 45,
     "metadata": {},
     "output_type": "execute_result"
    }
   ],
   "source": [
    "b[3:8]"
   ]
  },
  {
   "cell_type": "code",
   "execution_count": 47,
   "id": "3c4adeb3-c92a-4f4a-8aaf-81c88b12df66",
   "metadata": {},
   "outputs": [
    {
     "data": {
      "text/plain": [
       "array([[32, 23, 39, 47, 23, 49],\n",
       "       [35, 68, 38, 48, 20, 53],\n",
       "       [68, 54, 75, 53, 32, 73],\n",
       "       [35, 73, 27, 38, 24, 44],\n",
       "       [65, 45, 39, 48, 65, 61]])"
      ]
     },
     "execution_count": 47,
     "metadata": {},
     "output_type": "execute_result"
    }
   ],
   "source": [
    "b[3:8,2:8]"
   ]
  },
  {
   "cell_type": "code",
   "execution_count": 55,
   "id": "e528f07e-977e-4364-ac71-c2a5b89e7fad",
   "metadata": {},
   "outputs": [],
   "source": [
    "import pandas as pd"
   ]
  },
  {
   "cell_type": "code",
   "execution_count": 61,
   "id": "fcd7f6e1-e0ef-451f-91c2-c99b8b6e4fe0",
   "metadata": {},
   "outputs": [
    {
     "data": {
      "text/plain": [
       "array([ 4,  7,  2,  9,  7,  3, 90, 50])"
      ]
     },
     "execution_count": 61,
     "metadata": {},
     "output_type": "execute_result"
    }
   ],
   "source": [
    "np.array(t)"
   ]
  },
  {
   "cell_type": "code",
   "execution_count": 71,
   "id": "4dbaeee7-8c79-4db7-b421-b6a00270f8db",
   "metadata": {},
   "outputs": [
    {
     "data": {
      "text/plain": [
       "0      [4, 7]\n",
       "1      [2, 9]\n",
       "2      [7, 3]\n",
       "3    [90, 50]\n",
       "dtype: object"
      ]
     },
     "execution_count": 71,
     "metadata": {},
     "output_type": "execute_result"
    }
   ],
   "source": [
    "import pandas as pd\n",
    "pd.Series(t)"
   ]
  },
  {
   "cell_type": "code",
   "execution_count": 69,
   "id": "a1f58ebc-c148-4bdb-b2f4-591634129c1a",
   "metadata": {},
   "outputs": [
    {
     "data": {
      "text/plain": [
       "[[4, 7], [2, 9], [7, 3], [90, 50]]"
      ]
     },
     "execution_count": 69,
     "metadata": {},
     "output_type": "execute_result"
    }
   ],
   "source": [
    "t=[[4,7],[2,9],[7,3],[90,50]]\n",
    "t"
   ]
  },
  {
   "cell_type": "code",
   "execution_count": 84,
   "id": "23969ce4-081f-424f-8aaa-a33a8f993e2b",
   "metadata": {},
   "outputs": [
    {
     "data": {
      "text/plain": [
       "[[4, 7], [2, 9], [7, 3], [90, 50]]"
      ]
     },
     "execution_count": 84,
     "metadata": {},
     "output_type": "execute_result"
    }
   ],
   "source": [
    "t=[[4,7],[2,9],[7,3],[90,50]]\n",
    "t"
   ]
  },
  {
   "cell_type": "code",
   "execution_count": 86,
   "id": "179db0a6-a3b0-450e-af78-c4427466ffa9",
   "metadata": {},
   "outputs": [
    {
     "data": {
      "text/html": [
       "<div>\n",
       "<style scoped>\n",
       "    .dataframe tbody tr th:only-of-type {\n",
       "        vertical-align: middle;\n",
       "    }\n",
       "\n",
       "    .dataframe tbody tr th {\n",
       "        vertical-align: top;\n",
       "    }\n",
       "\n",
       "    .dataframe thead th {\n",
       "        text-align: right;\n",
       "    }\n",
       "</style>\n",
       "<table border=\"1\" class=\"dataframe\">\n",
       "  <thead>\n",
       "    <tr style=\"text-align: right;\">\n",
       "      <th></th>\n",
       "      <th>0</th>\n",
       "      <th>1</th>\n",
       "    </tr>\n",
       "  </thead>\n",
       "  <tbody>\n",
       "    <tr>\n",
       "      <th>0</th>\n",
       "      <td>4</td>\n",
       "      <td>7</td>\n",
       "    </tr>\n",
       "    <tr>\n",
       "      <th>1</th>\n",
       "      <td>2</td>\n",
       "      <td>9</td>\n",
       "    </tr>\n",
       "    <tr>\n",
       "      <th>2</th>\n",
       "      <td>7</td>\n",
       "      <td>3</td>\n",
       "    </tr>\n",
       "    <tr>\n",
       "      <th>3</th>\n",
       "      <td>90</td>\n",
       "      <td>50</td>\n",
       "    </tr>\n",
       "  </tbody>\n",
       "</table>\n",
       "</div>"
      ],
      "text/plain": [
       "    0   1\n",
       "0   4   7\n",
       "1   2   9\n",
       "2   7   3\n",
       "3  90  50"
      ]
     },
     "execution_count": 86,
     "metadata": {},
     "output_type": "execute_result"
    }
   ],
   "source": [
    "pd.DataFrame(t)"
   ]
  },
  {
   "cell_type": "code",
   "execution_count": 100,
   "id": "b8bcfd2b-6749-4b88-a0d7-8f18f1547f9d",
   "metadata": {},
   "outputs": [
    {
     "data": {
      "text/plain": [
       "[[4, 7], [2, 9], [7, 3], [90, 50]]"
      ]
     },
     "execution_count": 100,
     "metadata": {},
     "output_type": "execute_result"
    }
   ],
   "source": [
    "t=[[4,7],[2,9],[7,3],[90,50]]\n",
    "t"
   ]
  },
  {
   "cell_type": "code",
   "execution_count": 114,
   "id": "47a77189-252d-464f-9178-e7a267664d10",
   "metadata": {},
   "outputs": [
    {
     "data": {
      "text/html": [
       "<div>\n",
       "<style scoped>\n",
       "    .dataframe tbody tr th:only-of-type {\n",
       "        vertical-align: middle;\n",
       "    }\n",
       "\n",
       "    .dataframe tbody tr th {\n",
       "        vertical-align: top;\n",
       "    }\n",
       "\n",
       "    .dataframe thead th {\n",
       "        text-align: right;\n",
       "    }\n",
       "</style>\n",
       "<table border=\"1\" class=\"dataframe\">\n",
       "  <thead>\n",
       "    <tr style=\"text-align: right;\">\n",
       "      <th></th>\n",
       "      <th>name</th>\n",
       "      <th>sub</th>\n",
       "    </tr>\n",
       "  </thead>\n",
       "  <tbody>\n",
       "    <tr>\n",
       "      <th>289</th>\n",
       "      <td>4</td>\n",
       "      <td>7</td>\n",
       "    </tr>\n",
       "    <tr>\n",
       "      <th>290</th>\n",
       "      <td>2</td>\n",
       "      <td>9</td>\n",
       "    </tr>\n",
       "    <tr>\n",
       "      <th>291</th>\n",
       "      <td>7</td>\n",
       "      <td>3</td>\n",
       "    </tr>\n",
       "    <tr>\n",
       "      <th>292</th>\n",
       "      <td>90</td>\n",
       "      <td>50</td>\n",
       "    </tr>\n",
       "  </tbody>\n",
       "</table>\n",
       "</div>"
      ],
      "text/plain": [
       "     name  sub\n",
       "289     4    7\n",
       "290     2    9\n",
       "291     7    3\n",
       "292    90   50"
      ]
     },
     "execution_count": 114,
     "metadata": {},
     "output_type": "execute_result"
    }
   ],
   "source": [
    "df=pd.DataFrame(t,columns=['name','sub'],index=[289,290,291,292])\n",
    "df"
   ]
  },
  {
   "cell_type": "code",
   "execution_count": 116,
   "id": "6f5875f1-9066-490b-a310-e35ddfa4e2ef",
   "metadata": {},
   "outputs": [
    {
     "data": {
      "text/plain": [
       "Index(['name', 'sub'], dtype='object')"
      ]
     },
     "execution_count": 116,
     "metadata": {},
     "output_type": "execute_result"
    }
   ],
   "source": [
    "df.columns"
   ]
  },
  {
   "cell_type": "code",
   "execution_count": 118,
   "id": "913053cb-ba66-46cb-8b82-1317959505ee",
   "metadata": {},
   "outputs": [
    {
     "data": {
      "text/plain": [
       "289     7\n",
       "290     9\n",
       "291     3\n",
       "292    50\n",
       "Name: sub, dtype: int64"
      ]
     },
     "execution_count": 118,
     "metadata": {},
     "output_type": "execute_result"
    }
   ],
   "source": [
    "df['sub']"
   ]
  },
  {
   "cell_type": "code",
   "execution_count": 120,
   "id": "a2268bfe-30a0-49bd-9bed-91784709e3ea",
   "metadata": {},
   "outputs": [
    {
     "data": {
      "text/plain": [
       "3"
      ]
     },
     "execution_count": 120,
     "metadata": {},
     "output_type": "execute_result"
    }
   ],
   "source": [
    "df['sub'].min()"
   ]
  },
  {
   "cell_type": "code",
   "execution_count": 122,
   "id": "52b0dec5-d001-4454-9209-5bc90236a7ad",
   "metadata": {},
   "outputs": [
    {
     "data": {
      "text/plain": [
       "50"
      ]
     },
     "execution_count": 122,
     "metadata": {},
     "output_type": "execute_result"
    }
   ],
   "source": [
    "df['sub'].max()"
   ]
  },
  {
   "cell_type": "code",
   "execution_count": 124,
   "id": "b2d7605d-5a92-45d8-8a08-d5771886ce34",
   "metadata": {},
   "outputs": [
    {
     "data": {
      "text/plain": [
       "19.25"
      ]
     },
     "execution_count": 124,
     "metadata": {},
     "output_type": "execute_result"
    }
   ],
   "source": [
    "df['sub'].quantile(0.75)"
   ]
  },
  {
   "cell_type": "code",
   "execution_count": 126,
   "id": "ab072018-1ad1-42bf-b06b-a331dc1d8924",
   "metadata": {},
   "outputs": [
    {
     "data": {
      "text/plain": [
       "0     3\n",
       "1     7\n",
       "2     9\n",
       "3    50\n",
       "Name: sub, dtype: int64"
      ]
     },
     "execution_count": 126,
     "metadata": {},
     "output_type": "execute_result"
    }
   ],
   "source": [
    "df['sub'].mode()"
   ]
  },
  {
   "cell_type": "code",
   "execution_count": null,
   "id": "e8314751-15ca-48e1-a662-1e5f4b494fc8",
   "metadata": {},
   "outputs": [],
   "source": [
    "df['sub'].me()"
   ]
  }
 ],
 "metadata": {
  "kernelspec": {
   "display_name": "Python [conda env:base] *",
   "language": "python",
   "name": "conda-base-py"
  },
  "language_info": {
   "codemirror_mode": {
    "name": "ipython",
    "version": 3
   },
   "file_extension": ".py",
   "mimetype": "text/x-python",
   "name": "python",
   "nbconvert_exporter": "python",
   "pygments_lexer": "ipython3",
   "version": "3.12.7"
  }
 },
 "nbformat": 4,
 "nbformat_minor": 5
}
